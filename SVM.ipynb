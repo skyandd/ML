{
 "cells": [
  {
   "cell_type": "code",
   "execution_count": 1,
   "metadata": {},
   "outputs": [],
   "source": [
    "import matplotlib.pyplot as plt \n",
    "from sklearn.model_selection import train_test_split\n",
    "from sklearn import datasets\n",
    "from sklearn.metrics import accuracy_score\n",
    "from MLalgorithms.svm import SVM\n",
    "import numpy as np\n",
    "%matplotlib inline"
   ]
  },
  {
   "cell_type": "markdown",
   "metadata": {},
   "source": [
    "Математическая основа для реализации алгорима с линейным ядром была взята с курсеры:\n",
    "\n",
    "- https://www.coursera.org/lecture/supervised-learning/mietod-opornykh-viektorov-svm-dc5N4\n",
    "\n",
    "Код для визуализации с этого замечательного канала:\n",
    "\n",
    "- https://www.youtube.com/channel/UCbXgNpp0jedKWcQiULLbDTA"
   ]
  },
  {
   "cell_type": "markdown",
   "metadata": {},
   "source": [
    "Суть алгоритма состоит в том, чтобы найти оптимальную разделяющую границу для наших данных, путем введения некоторых условий. Отсюда и вытекает следущая специфичная кусочно-линейная функция потерь:\n",
    "$$L = \\frac{1}{n}\\displaystyle\\sum\\limits_{i=0}^n max(0, 1 - y_{i}(wx_{i} - b)) + \\lambda||w||^{2}$$\n",
    "\n",
    "Следовательно градиенты функции потерь будут следующие:\n",
    "\n",
    "Если\n",
    "$$y_{i}(wx_{i} - b)\\geq 1$$\n",
    "\n",
    "Тогда\n",
    "$$L_i = \\lambda||w||^2$$\n",
    "$$\\frac{\\partial L_i}{\\partial w} = 2\\lambda||w|| $$\n",
    "$$\\frac{\\partial L_i}{\\partial b} = 0 $$\n",
    "\n",
    "Иначе\n",
    "$$L_i = 1 - y_{i}(wx_{i} - b) + \\lambda||w||^2$$\n",
    "$$\\frac{\\partial L_i}{\\partial w} = -y_ix_i + 2\\lambda||w|| $$\n",
    "$$\\frac{\\partial L_i}{\\partial b} = y_i $$"
   ]
  },
  {
   "cell_type": "code",
   "execution_count": 2,
   "metadata": {},
   "outputs": [],
   "source": [
    "def get_hyperplane_value(x, w, b, offset):\n",
    "    return (-w[0] * x + b + offset) / w[1]"
   ]
  },
  {
   "cell_type": "code",
   "execution_count": 5,
   "metadata": {},
   "outputs": [
    {
     "data": {
      "image/png": "[encoded data removed]",
      "text/plain": [
       "<Figure size 432x288 with 1 Axes>"
      ]
     },
     "metadata": {
      "needs_background": "light"
     },
     "output_type": "display_data"
    }
   ],
   "source": [
    "X, y = datasets.make_blobs(n_samples = 100, n_features = 2, centers = 2, random_state = 17)\n",
    "\n",
    "svm = SVM()\n",
    "svm.fit(X, y)\n",
    "\n",
    "fig = plt.figure()\n",
    "        \n",
    "ax = fig.add_subplot(1,1,1)\n",
    "plt.scatter(X[:,0], X[:,1], marker='o',c=y)\n",
    "\n",
    "x0_1 = np.amin(X[:,0])\n",
    "x0_2 = np.amax(X[:,0])\n",
    "\n",
    "x1_1 = get_hyperplane_value(x0_1, svm.w, svm.b, 0)\n",
    "x1_2 = get_hyperplane_value(x0_2, svm.w, svm.b, 0)\n",
    "\n",
    "x1_1_m = get_hyperplane_value(x0_1, svm.w, svm.b, -1)\n",
    "x1_2_m = get_hyperplane_value(x0_2, svm.w, svm.b, -1)\n",
    "\n",
    "x1_1_p = get_hyperplane_value(x0_1, svm.w, svm.b, 1)\n",
    "x1_2_p = get_hyperplane_value(x0_2, svm.w, svm.b, 1)\n",
    "\n",
    "ax.plot([x0_1, x0_2],[x1_1, x1_2], 'y--')\n",
    "ax.plot([x0_1, x0_2],[x1_1_m, x1_2_m], 'k')\n",
    "ax.plot([x0_1, x0_2],[x1_1_p, x1_2_p], 'k')\n",
    "\n",
    "plt.show()"
   ]
  },
  {
   "cell_type": "code",
   "execution_count": 6,
   "metadata": {},
   "outputs": [],
   "source": [
    "X_train, X_test, y_train, y_test = train_test_split(X, y, test_size = 0.3, random_state = 17)"
   ]
  },
  {
   "cell_type": "code",
   "execution_count": 7,
   "metadata": {},
   "outputs": [],
   "source": [
    "svm_test = SVM()"
   ]
  },
  {
   "cell_type": "code",
   "execution_count": 8,
   "metadata": {},
   "outputs": [],
   "source": [
    "svm_test.fit(X_train, y_train)"
   ]
  },
  {
   "cell_type": "code",
   "execution_count": 9,
   "metadata": {},
   "outputs": [],
   "source": [
    "y_pred = svm_test.predict(X_test)"
   ]
  },
  {
   "cell_type": "code",
   "execution_count": 10,
   "metadata": {},
   "outputs": [
    {
     "data": {
      "text/plain": [
       "1.0"
      ]
     },
     "execution_count": 10,
     "metadata": {},
     "output_type": "execute_result"
    }
   ],
   "source": [
    "accuracy_score(y_test, y_pred)"
   ]
  }
 ],
 "metadata": {
  "kernelspec": {
   "display_name": "Python 3",
   "language": "python",
   "name": "python3"
  },
  "language_info": {
   "codemirror_mode": {
    "name": "ipython",
    "version": 3
   },
   "file_extension": ".py",
   "mimetype": "text/x-python",
   "name": "python",
   "nbconvert_exporter": "python",
   "pygments_lexer": "ipython3",
   "version": "3.7.4"
  }
 },
 "nbformat": 4,
 "nbformat_minor": 2
}
