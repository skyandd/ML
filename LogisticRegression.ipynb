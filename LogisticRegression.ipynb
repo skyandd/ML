{
 "cells": [
  {
   "cell_type": "code",
   "execution_count": 1,
   "metadata": {},
   "outputs": [],
   "source": [
    "from sklearn.model_selection import train_test_split\n",
    "import matplotlib.pyplot as plt\n",
    "from sklearn.datasets import load_breast_cancer\n",
    "from sklearn.preprocessing import StandardScaler\n",
    "from sklearn.metrics import accuracy_score\n",
    "from MLalgorithms.logistic_regression import LogisticRegresson\n",
    "%matplotlib inline"
   ]
  },
  {
   "cell_type": "markdown",
   "metadata": {},
   "source": [
    "Обучаемый параметр логистической регрессии - это вектор $\\omega$ размера, совпадающего с числом признаков. При этом модель предсказывает для каждого объекта вероятность принадлежать к классу $1$, равную\n",
    "\n",
    "$$\n",
    "    \\mathbb{P} (z_i = 1 \\mid \\omega) = \\sigma \\left(X_i^{\\top} \\omega\\right) = \\frac{1}{1 + \\exp{\\left(- X_i^{\\top} \\omega\\right)}},\n",
    "$$\n",
    "\n",
    "где $z_i$ - предсказание модели для $i$-го объекта, а $X_i$ - вектор признаков для него.\n",
    "\n",
    "Полагая все объекты независимыми, мы получаем условное распределение выборки $(X, y)$:\n",
    "\n",
    "$$\n",
    "    f ((X, y) \\mid \\omega) = \\prod_{i : y_i = 1} \\sigma\\left(X_i^{\\top} \\omega\\right) \\cdot \\prod_{i : y_i = 0} \\left(1 - \\sigma\\left(X_i^{\\top} \\omega\\right) \\right) = \\prod_{i = 1}^n \\sigma\\left((2 y_i - 1) \\cdot X_i^{\\top} \\omega\\right),\n",
    "$$\n",
    "\n",
    "поскольку $1 - \\sigma (u) = \\sigma (-u)$, а преобразование $y \\mapsto 2 y - 1$ переводит метки классов из $\\{0, 1\\}$ в $\\{-1, 1\\}$.\n",
    "\n",
    "В таком виде работать с плотностью неудобно - даже при небольшой выборке будут получаться очень маленькие числа. Поэтому лучше работать с логарифмом\n",
    "\n",
    "$$\n",
    "    \\ln f ((X, y) \\mid \\omega) = \\sum_{i = 1}^n \\ln \\sigma\\left((2 y_i - 1) \\cdot X_i^{\\top} \\omega\\right) = \\sum_{i = 1}^n \\ln \\left(1 + \\exp{\\left( - (2 y_i - 1) X_i^{\\top} \\omega \\right)}\\right)\n",
    "$$\n",
    "\n",
    "Для реализации алгоритма нам потребуется градиент логарифма условной плотности. Частная производная по $k$-ой компоненте $\\omega$ равна\n",
    "\n",
    "$$\n",
    "    \\frac{\\partial f ((X, y) \\mid \\omega)}{\\partial \\omega_k} = \\frac{\\partial}{\\partial \\omega_k} \\sum_{i = 1}^n \\ln \\left(1 + \\exp{\\left( - (2 y_i - 1) X_i^{\\top} \\omega \\right)}\\right) =\n",
    "    \\sum_{i = 1}^n \\frac{\\partial}{\\partial \\omega_k} \\ln \\left(1 + \\exp{\\left( - (2 y_i - 1) X_i^{\\top} \\omega \\right)}\\right) = \\ldots \\\\\n",
    "    \\ldots = \\sum_{i = 1}^n \\frac{\\exp{\\left( - (2 y_i - 1) X_i^{\\top} \\omega\\right)} \\cdot (1 - 2 y_i) \\dfrac{\\partial X_i^{\\top} \\omega}{\\partial \\omega_k}}{1 + \\exp{\\left( - (2 y_i - 1) X_i^{\\top} \\omega \\right)}} =\n",
    "    \\sum_{i = 1}^n \\frac{- (2 y_i - 1) X_{ki}}{1 + \\exp{\\left((2 y_i - 1) X_i^{\\top} \\omega \\right)}}\n",
    "$$\n",
    "\n",
    "Собирая всё вместе, мы получаем матричное выражение для градиента (что существенно ускоряет его вычисление):\n",
    "\n",
    "$$\n",
    "    \\nabla_{\\omega} \\ln f ((X, y) \\mid \\omega) = X^{\\top} \\cdot \\left((2 y - 1) \\odot \\sigma\\left( - (2 y - 1) \\odot (X \\omega) \\right) \\right),\n",
    "$$"
   ]
  },
  {
   "cell_type": "markdown",
   "metadata": {},
   "source": [
    "## Далее я обучу реализованный алгоритм на простом наборе данных из sklearn - \"breast_cancer\", предварительно его маштабировав. Сами же данные будут разбиты не на train, test, validation, а для простоты на train и test. "
   ]
  },
  {
   "cell_type": "code",
   "execution_count": 2,
   "metadata": {},
   "outputs": [],
   "source": [
    "data = load_breast_cancer()\n",
    "X = data['data']\n",
    "y = data['target']\n",
    "# Обязательно нужно маштабировать данные\n",
    "scaler = StandardScaler()\n",
    "X = scaler.fit_transform(X)"
   ]
  },
  {
   "cell_type": "code",
   "execution_count": 3,
   "metadata": {},
   "outputs": [],
   "source": [
    "# Разобьём данные на train и test\n",
    "X_train, X_test, y_train, y_test = train_test_split(X, y, random_state = 17)"
   ]
  },
  {
   "cell_type": "markdown",
   "metadata": {},
   "source": [
    "**Не буду подбирать лучше параметры модели, просто объявлю её с параметрами по дефолту.**"
   ]
  },
  {
   "cell_type": "code",
   "execution_count": 16,
   "metadata": {},
   "outputs": [],
   "source": [
    "logr = LogisticRegresson(lr = 0.001)\n",
    "history= logr.fit(X_train, y_train)"
   ]
  },
  {
   "cell_type": "markdown",
   "metadata": {},
   "source": [
    "**Посмотрим на график изменения лос функции**"
   ]
  },
  {
   "cell_type": "code",
   "execution_count": 18,
   "metadata": {},
   "outputs": [
    {
     "data": {
      "text/plain": [
       "[<matplotlib.lines.Line2D at 0x20cbe5c0b88>]"
      ]
     },
     "execution_count": 18,
     "metadata": {},
     "output_type": "execute_result"
    },
    {
     "data": {
      "image/png": "[encoded data removed]",
      "text/plain": [
       "<Figure size 432x288 with 1 Axes>"
      ]
     },
     "metadata": {
      "needs_background": "light"
     },
     "output_type": "display_data"
    }
   ],
   "source": [
    "plt.plot(history)"
   ]
  },
  {
   "cell_type": "code",
   "execution_count": 19,
   "metadata": {},
   "outputs": [],
   "source": [
    "# Предскажем итоговые метки \n",
    "y_pred = logr.predict(X_test)"
   ]
  },
  {
   "cell_type": "markdown",
   "metadata": {},
   "source": [
    "**Посмотрим на метрику качества** "
   ]
  },
  {
   "cell_type": "code",
   "execution_count": 20,
   "metadata": {},
   "outputs": [
    {
     "data": {
      "text/plain": [
       "0.965034965034965"
      ]
     },
     "execution_count": 20,
     "metadata": {},
     "output_type": "execute_result"
    }
   ],
   "source": [
    "accuracy_score(y_test, y_pred)"
   ]
  },
  {
   "cell_type": "markdown",
   "metadata": {},
   "source": [
    "**Видно, что алгоритм показал довольно не плохой результат**"
   ]
  }
 ],
 "metadata": {
  "kernelspec": {
   "display_name": "Python 3",
   "language": "python",
   "name": "python3"
  },
  "language_info": {
   "codemirror_mode": {
    "name": "ipython",
    "version": 3
   },
   "file_extension": ".py",
   "mimetype": "text/x-python",
   "name": "python",
   "nbconvert_exporter": "python",
   "pygments_lexer": "ipython3",
   "version": "3.7.4"
  }
 },
 "nbformat": 4,
 "nbformat_minor": 2
}
